{
 "cells": [
  {
   "cell_type": "code",
   "execution_count": null,
   "id": "3a8eb7f1-9b4c-4fee-8aa6-af5141999238",
   "metadata": {},
   "outputs": [],
   "source": [
    "%pip uninstall numpy\n",
    "%y\n",
    "%pip install numpy\n"
   ]
  },
  {
   "cell_type": "code",
   "execution_count": null,
   "id": "944b802a-13c3-4ebc-98e3-1960d74db6a3",
   "metadata": {},
   "outputs": [],
   "source": [
    "from data_cleaning.cleaner import DataCleaner # data_cleaning is treated as a python package\n",
    "from uae_info.uaeInfo import UAEInfo \n",
    "from data_saving.dataSaver import DataSaver\n",
    "from database_utils.databaseConfig import Database\n"
   ]
  },
  {
   "cell_type": "code",
   "execution_count": null,
   "id": "74f29b4e-7d11-4ad5-b3f6-9d8d1df10da3",
   "metadata": {},
   "outputs": [],
   "source": [
    "if __name__ == \"__main__\":\n",
    "    raw_dataset = \"/Users/pedramjalali/documents/data_analysis/uae_properties/dataset/raw_data/uae_properties.csv\"\n",
    "\n",
    "    cleaner = DataCleaner(raw_data_path=raw_dataset, uae_cities=UAEInfo.uae_cities())\n",
    "    data = cleaner.read_raw_data()\n",
    "\n"
   ]
  },
  {
   "cell_type": "code",
   "execution_count": null,
   "id": "67dfe0bb-6196-4be5-b7d8-2eb4dc2ebd28",
   "metadata": {},
   "outputs": [],
   "source": [
    "    # DATA CLEANING\n",
    "    cleaner.create_city_column() \n",
    "    cleaner.remove_city_from_address() \n",
    "    cleaner.numeric_columns()\n",
    "    cleaner.object_columns()\n",
    "    cleaner.date_columns()\n",
    "    cleaner.convert_to_date_type()\n",
    "    cleaner.impute_missing_values()\n",
    "    cleaner.drop_missing_rent_values()\n",
    "    cleaner.drop_duplicate_rows()\n",
    "    cleaner.convert_columns_to_lowercase()"
   ]
  },
  {
   "cell_type": "code",
   "execution_count": null,
   "id": "bc3baaa3-6e20-4d98-a9a1-106982b6e59e",
   "metadata": {},
   "outputs": [],
   "source": [
    "    # OUTLIER DETECTION\n",
    "    \"\"\"\n",
    "\n",
    "    - Every numeric value column contains high-end and ignorable outliers meaning the distribution is \n",
    "    positively skewed. The majority of the data is clustered toward lower values, \n",
    "    with a few extremely high values pulling the upper end.\n",
    "\n",
    "    - Outliers are not an issue in any case.\n",
    "\n",
    "    \"\"\"\n",
    "\n",
    "    #for column in data.columns:\n",
    "        #cleaner.outlier_detection(column)\n",
    "\n",
    "\n",
    "    # SAVING THE NEW CLEANED DATASET TO 'dataset/cleaned_data/'\n",
    "    saver = DataSaver()\n",
    "    saver.save_clean_data(cleaner.df)"
   ]
  },
  {
   "cell_type": "code",
   "execution_count": null,
   "id": "9c27cf2d-5b0a-406e-918c-d6ac518eb7e9",
   "metadata": {},
   "outputs": [],
   "source": [
    "    # LOADING THE SAVED CLEANED DATA TO POSTGRESQL DB\n",
    "\n",
    "    load_to_db = Database()\n",
    "    load_to_db.create_database()\n",
    "    load_to_db.create_engine()\n",
    "    load_to_db.load_to_db()"
   ]
  }
 ],
 "metadata": {
  "kernelspec": {
   "display_name": "Python [conda env:base] *",
   "language": "python",
   "name": "conda-base-py"
  },
  "language_info": {
   "codemirror_mode": {
    "name": "ipython",
    "version": 3
   },
   "file_extension": ".py",
   "mimetype": "text/x-python",
   "name": "python",
   "nbconvert_exporter": "python",
   "pygments_lexer": "ipython3",
   "version": "3.12.7"
  }
 },
 "nbformat": 4,
 "nbformat_minor": 5
}
